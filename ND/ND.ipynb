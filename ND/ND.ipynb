{
 "cells": [
  {
   "cell_type": "markdown",
   "metadata": {},
   "source": [
    "# COVID-19 Web Scrape"
   ]
  },
  {
   "cell_type": "code",
   "execution_count": 23,
   "metadata": {},
   "outputs": [],
   "source": [
    "# Import Dependencies\n",
    "from bs4 import BeautifulSoup as bs\n",
    "import requests\n",
    "from splinter import Browser\n",
    "import os\n",
    "import pandas as pd\n",
    "import time"
   ]
  },
  {
   "cell_type": "code",
   "execution_count": 111,
   "metadata": {},
   "outputs": [],
   "source": [
    "# Create an executable path that works for both types of os\n",
    "if os.name==\"nt\":\n",
    "    executable_path = {'executable_path': './chromedriver.exe'}\n",
    "else:\n",
    "    executable_path = {\"executable_path\": \"/usr/local/bin/chromedriver\"}"
   ]
  },
  {
   "cell_type": "code",
   "execution_count": 112,
   "metadata": {},
   "outputs": [],
   "source": [
    "#\n",
    "covid_url = 'https://www.worldometers.info/coronavirus/country/us/'\n",
    "browser = Browser('chrome', **executable_path, headless=False)\n",
    "browser.visit(covid_url)\n",
    "time.sleep(5)"
   ]
  },
  {
   "cell_type": "code",
   "execution_count": 113,
   "metadata": {},
   "outputs": [
    {
     "data": {
      "text/plain": [
       "bs4.BeautifulSoup"
      ]
     },
     "execution_count": 113,
     "metadata": {},
     "output_type": "execute_result"
    }
   ],
   "source": [
    "# Create a Beautiful Soup object; parse with 'html.parser'; double check that it's bs4\n",
    "news_html = browser.html\n",
    "news_soup = bs(news_html, 'html.parser')\n",
    "type(news_soup)"
   ]
  },
  {
   "cell_type": "code",
   "execution_count": 253,
   "metadata": {},
   "outputs": [
    {
     "name": "stdout",
     "output_type": "stream",
     "text": [
      "3097084\n",
      "423493\n",
      "287514\n",
      "219420\n",
      "213794\n",
      "177214\n",
      "149574\n",
      "110338\n",
      "105094\n",
      "100470\n",
      "95986\n",
      "76582\n",
      "73900\n",
      "70396\n",
      "68263\n",
      "66740\n",
      "58967\n",
      "53514\n",
      "48626\n",
      "47352\n",
      "47033\n",
      "45785\n",
      "39133\n",
      "38364\n",
      "34664\n",
      "32556\n",
      "32214\n",
      "32042\n",
      "26033\n",
      "25579\n",
      "24512\n",
      "23785\n",
      "20201\n",
      "17519\n",
      "17220\n",
      "17154\n",
      "17070\n",
      "13727\n",
      "12414\n",
      "10605\n",
      "10569\n",
      "8539\n",
      "7163\n",
      "5932\n",
      "3898\n",
      "3505\n",
      "3440\n",
      "1711\n",
      "1327\n",
      "1254\n",
      "1184\n",
      "1071\n"
     ]
    }
   ],
   "source": [
    "# Parse through the elements to collect the cases data for the US; create an array to loop through the web scraped data and append it\n",
    "covid_news = news_soup.find('tbody').find_all('td', class_='sorting_1')\n",
    "# print(covid_news)\n",
    "cases = []\n",
    "for news in covid_news:\n",
    "    cases.append(int(news.text.replace(',', '')))\n",
    "    print(int(news.text.replace(',', '')))"
   ]
  },
  {
   "cell_type": "code",
   "execution_count": 236,
   "metadata": {},
   "outputs": [
    {
     "name": "stdout",
     "output_type": "stream",
     "text": [
      "New York\n",
      "California\n",
      "Texas\n",
      "Florida\n",
      "New Jersey\n",
      "Illinois\n",
      "Massachusetts\n",
      "Arizona\n",
      "Georgia\n",
      "Pennsylvania\n",
      "North Carolina\n",
      "Michigan\n",
      "Maryland\n",
      "Louisiana\n",
      "Virginia\n",
      "Ohio\n",
      "Tennessee\n",
      "Indiana\n",
      "South Carolina\n",
      "Connecticut\n",
      "Alabama\n",
      "Minnesota\n",
      "Washington\n",
      "Colorado\n",
      "Wisconsin\n",
      "Mississippi\n",
      "Iowa\n",
      "Utah\n",
      "Missouri\n",
      "Arkansas\n",
      "Nevada\n",
      "Nebraska\n",
      "Kentucky\n",
      "Oklahoma\n",
      "Rhode Island\n",
      "Kansas\n",
      "New Mexico\n",
      "Delaware\n",
      "Oregon\n",
      "District Of Columbia\n",
      "Idaho\n",
      "South Dakota\n",
      "New Hampshire\n",
      "North Dakota\n",
      "West Virginia\n",
      "Maine\n",
      "Wyoming\n",
      "Montana\n",
      "Vermont\n",
      "Alaska\n",
      "Hawaii\n"
     ]
    }
   ],
   "source": [
    "# Parse through the elements to collect the states data for the US (that way, the number will match with the found number of cases); create an array to loop through the web scraped data and append it\n",
    "covid_cases = news_soup.find('tbody').find_all('a', class_=\"mt_a\")\n",
    "states = []\n",
    "# print(covid_cases)\n",
    "for num in covid_cases:\n",
    "    states.append(num.text)\n",
    "    print(num.text)"
   ]
  },
  {
   "cell_type": "code",
   "execution_count": 237,
   "metadata": {},
   "outputs": [],
   "source": [
    "# Parse through the elements to collect the states data for the US (that way, the number will match with the found number of cases); create an array to loop through the web scraped data and append it\n",
    "covid_deaths = news_soup.find('tbody').find_all('td')\n",
    "unfiltered_data = []\n",
    "# print(covid_deaths)\n",
    "for num in covid_deaths:\n",
    "    unfiltered_data.append(num.text)\n",
    "#     print(num.text)"
   ]
  },
  {
   "cell_type": "code",
   "execution_count": 238,
   "metadata": {},
   "outputs": [
    {
     "data": {
      "text/plain": [
       "32292"
      ]
     },
     "execution_count": 238,
     "metadata": {},
     "output_type": "execute_result"
    }
   ],
   "source": [
    "# Testing the first death case to get the initial counter\n",
    "int(unfiltered_data[15].strip('\\n').strip(' ').replace(',', ''))"
   ]
  },
  {
   "cell_type": "code",
   "execution_count": 239,
   "metadata": {},
   "outputs": [
    {
     "data": {
      "text/plain": [
       "'6563'"
      ]
     },
     "execution_count": 239,
     "metadata": {},
     "output_type": "execute_result"
    }
   ],
   "source": [
    "# Testing the second death case to get the gap between each counter\n",
    "unfiltered_data[27].strip('\\n').strip(' ').replace(',', '')"
   ]
  },
  {
   "cell_type": "code",
   "execution_count": 240,
   "metadata": {},
   "outputs": [],
   "source": [
    "# Create a counter and loop through the web scraped data\n",
    "counter = 15\n",
    "\n",
    "# Create a new list to hold the death cases\n",
    "deaths = []\n",
    "while a > 0:\n",
    "    deaths.append(int(unfiltered_data[counter].strip('\\n').strip(' ').replace(',', '')))\n",
    "#     print(deaths2[a])\n",
    "    counter += 12\n",
    "    if len(deaths) == len(states):\n",
    "        break"
   ]
  },
  {
   "cell_type": "code",
   "execution_count": 241,
   "metadata": {},
   "outputs": [
    {
     "data": {
      "text/plain": [
       "[32292,\n",
       " 6563,\n",
       " 2823,\n",
       " 3841,\n",
       " 15352,\n",
       " 7273,\n",
       " 8213,\n",
       " 1927,\n",
       " 2899,\n",
       " 6841,\n",
       " 1459,\n",
       " 6251,\n",
       " 3266,\n",
       " 3325,\n",
       " 1881,\n",
       " 2979,\n",
       " 665,\n",
       " 2717,\n",
       " 846,\n",
       " 4338,\n",
       " 1033,\n",
       " 1514,\n",
       " 1384,\n",
       " 1701,\n",
       " 805,\n",
       " 1158,\n",
       " 728,\n",
       " 194,\n",
       " 1090,\n",
       " 301,\n",
       " 548,\n",
       " 282,\n",
       " 602,\n",
       " 404,\n",
       " 969,\n",
       " 288,\n",
       " 519,\n",
       " 514,\n",
       " 220,\n",
       " 561,\n",
       " 94,\n",
       " 98,\n",
       " 384,\n",
       " 84,\n",
       " 95,\n",
       " 110,\n",
       " 20,\n",
       " 23,\n",
       " 56,\n",
       " 17,\n",
       " 19]"
      ]
     },
     "execution_count": 241,
     "metadata": {},
     "output_type": "execute_result"
    }
   ],
   "source": [
    "# Print the deaths list\n",
    "deaths"
   ]
  },
  {
   "cell_type": "code",
   "execution_count": 242,
   "metadata": {},
   "outputs": [
    {
     "data": {
      "text/plain": [
       "'261819'"
      ]
     },
     "execution_count": 242,
     "metadata": {},
     "output_type": "execute_result"
    }
   ],
   "source": [
    "# Testing the first death case to get the initial counter\n",
    "unfiltered_data[17].strip('\\n').strip(' ').replace(',', '')"
   ]
  },
  {
   "cell_type": "code",
   "execution_count": 258,
   "metadata": {},
   "outputs": [
    {
     "data": {
      "text/plain": [
       "'203706'"
      ]
     },
     "execution_count": 258,
     "metadata": {},
     "output_type": "execute_result"
    }
   ],
   "source": [
    "# Testing the second death case to get the gap between each counter\n",
    "unfiltered_data[29].strip('\\n').strip(' ').replace(',', '')"
   ]
  },
  {
   "cell_type": "code",
   "execution_count": 259,
   "metadata": {},
   "outputs": [
    {
     "name": "stdout",
     "output_type": "stream",
     "text": [
      "<class 'int'>\n",
      "<class 'int'>\n",
      "<class 'int'>\n",
      "<class 'int'>\n",
      "<class 'int'>\n",
      "<class 'int'>\n",
      "<class 'int'>\n",
      "<class 'int'>\n",
      "<class 'int'>\n",
      "<class 'int'>\n",
      "<class 'int'>\n",
      "<class 'int'>\n",
      "<class 'int'>\n",
      "<class 'int'>\n",
      "<class 'int'>\n",
      "<class 'int'>\n",
      "<class 'int'>\n",
      "<class 'int'>\n",
      "<class 'int'>\n",
      "<class 'int'>\n",
      "<class 'int'>\n",
      "<class 'int'>\n",
      "<class 'int'>\n",
      "<class 'int'>\n",
      "<class 'int'>\n",
      "<class 'int'>\n",
      "<class 'int'>\n",
      "<class 'int'>\n",
      "<class 'int'>\n",
      "<class 'int'>\n",
      "<class 'int'>\n",
      "<class 'int'>\n",
      "<class 'int'>\n",
      "<class 'int'>\n",
      "<class 'int'>\n",
      "<class 'int'>\n",
      "<class 'int'>\n",
      "<class 'int'>\n",
      "<class 'int'>\n",
      "<class 'int'>\n",
      "<class 'int'>\n",
      "<class 'int'>\n",
      "<class 'int'>\n",
      "<class 'int'>\n",
      "<class 'int'>\n",
      "<class 'int'>\n",
      "<class 'int'>\n",
      "<class 'int'>\n",
      "<class 'int'>\n",
      "<class 'int'>\n",
      "<class 'int'>\n"
     ]
    }
   ],
   "source": [
    "# Create a counter and loop through the web scraped data\n",
    "counter2 = 17\n",
    "\n",
    "# Create a new list to hold the death cases\n",
    "actives = []\n",
    "while a > 0:\n",
    "    actives.append(int(unfiltered_data[counter2].strip('\\n').strip(' ').replace(',', '')))\n",
    "    print(type(int(unfiltered_data[counter2].strip('\\n').strip(' ').replace(',', '')))\n",
    "    counter2 += 12\n",
    "    if len(actives) == len(states):\n",
    "        break"
   ]
  },
  {
   "cell_type": "code",
   "execution_count": 245,
   "metadata": {},
   "outputs": [
    {
     "data": {
      "text/plain": [
       "51"
      ]
     },
     "execution_count": 245,
     "metadata": {},
     "output_type": "execute_result"
    }
   ],
   "source": [
    "# Check the length of the states list\n",
    "len(states)"
   ]
  },
  {
   "cell_type": "code",
   "execution_count": 246,
   "metadata": {},
   "outputs": [
    {
     "data": {
      "text/plain": [
       "52"
      ]
     },
     "execution_count": 246,
     "metadata": {},
     "output_type": "execute_result"
    }
   ],
   "source": [
    "# Check the length of the cases list\n",
    "len(cases)"
   ]
  },
  {
   "cell_type": "code",
   "execution_count": 247,
   "metadata": {},
   "outputs": [
    {
     "data": {
      "text/plain": [
       "51"
      ]
     },
     "execution_count": 247,
     "metadata": {},
     "output_type": "execute_result"
    }
   ],
   "source": [
    "# Check the length of the deaths list\n",
    "len(deaths)"
   ]
  },
  {
   "cell_type": "code",
   "execution_count": 248,
   "metadata": {},
   "outputs": [
    {
     "data": {
      "text/plain": [
       "51"
      ]
     },
     "execution_count": 248,
     "metadata": {},
     "output_type": "execute_result"
    }
   ],
   "source": [
    "# Check the length of the actives list\n",
    "len(actives)"
   ]
  },
  {
   "cell_type": "code",
   "execution_count": 267,
   "metadata": {},
   "outputs": [
    {
     "data": {
      "text/plain": [
       "3097084"
      ]
     },
     "execution_count": 267,
     "metadata": {},
     "output_type": "execute_result"
    }
   ],
   "source": [
    "# Erased the first index of the cases list because it's the total cases in the US\n",
    "cases.pop(0)"
   ]
  },
  {
   "cell_type": "code",
   "execution_count": 268,
   "metadata": {},
   "outputs": [
    {
     "data": {
      "text/plain": [
       "[423493,\n",
       " 287514,\n",
       " 219420,\n",
       " 213794,\n",
       " 177214,\n",
       " 149574,\n",
       " 110338,\n",
       " 105094,\n",
       " 100470,\n",
       " 95986,\n",
       " 76582,\n",
       " 73900,\n",
       " 70396,\n",
       " 68263,\n",
       " 66740,\n",
       " 58967,\n",
       " 53514,\n",
       " 48626,\n",
       " 47352,\n",
       " 47033,\n",
       " 45785,\n",
       " 39133,\n",
       " 38364,\n",
       " 34664,\n",
       " 32556,\n",
       " 32214,\n",
       " 32042,\n",
       " 26033,\n",
       " 25579,\n",
       " 24512,\n",
       " 23785,\n",
       " 20201,\n",
       " 17519,\n",
       " 17220,\n",
       " 17154,\n",
       " 17070,\n",
       " 13727,\n",
       " 12414,\n",
       " 10605,\n",
       " 10569,\n",
       " 8539,\n",
       " 7163,\n",
       " 5932,\n",
       " 3898,\n",
       " 3505,\n",
       " 3440,\n",
       " 1711,\n",
       " 1327,\n",
       " 1254,\n",
       " 1184,\n",
       " 1071]"
      ]
     },
     "execution_count": 268,
     "metadata": {},
     "output_type": "execute_result"
    }
   ],
   "source": [
    "# Print the cases list\n",
    "cases"
   ]
  },
  {
   "cell_type": "code",
   "execution_count": 260,
   "metadata": {},
   "outputs": [
    {
     "data": {
      "text/plain": [
       "['New York',\n",
       " 'California',\n",
       " 'Texas',\n",
       " 'Florida',\n",
       " 'New Jersey',\n",
       " 'Illinois',\n",
       " 'Massachusetts',\n",
       " 'Arizona',\n",
       " 'Georgia',\n",
       " 'Pennsylvania',\n",
       " 'North Carolina',\n",
       " 'Michigan',\n",
       " 'Maryland',\n",
       " 'Louisiana',\n",
       " 'Virginia',\n",
       " 'Ohio',\n",
       " 'Tennessee',\n",
       " 'Indiana',\n",
       " 'South Carolina',\n",
       " 'Connecticut',\n",
       " 'Alabama',\n",
       " 'Minnesota',\n",
       " 'Washington',\n",
       " 'Colorado',\n",
       " 'Wisconsin',\n",
       " 'Mississippi',\n",
       " 'Iowa',\n",
       " 'Utah',\n",
       " 'Missouri',\n",
       " 'Arkansas',\n",
       " 'Nevada',\n",
       " 'Nebraska',\n",
       " 'Kentucky',\n",
       " 'Oklahoma',\n",
       " 'Rhode Island',\n",
       " 'Kansas',\n",
       " 'New Mexico',\n",
       " 'Delaware',\n",
       " 'Oregon',\n",
       " 'District Of Columbia',\n",
       " 'Idaho',\n",
       " 'South Dakota',\n",
       " 'New Hampshire',\n",
       " 'North Dakota',\n",
       " 'West Virginia',\n",
       " 'Maine',\n",
       " 'Wyoming',\n",
       " 'Montana',\n",
       " 'Vermont',\n",
       " 'Alaska',\n",
       " 'Hawaii']"
      ]
     },
     "execution_count": 260,
     "metadata": {},
     "output_type": "execute_result"
    }
   ],
   "source": [
    "# Print the states list\n",
    "states"
   ]
  },
  {
   "cell_type": "code",
   "execution_count": 278,
   "metadata": {},
   "outputs": [],
   "source": [
    "# Create a recovered list to get the numbers from the cases, deaths and actives list\n",
    "recovered = []\n",
    "counter3 = 0\n",
    "while counter3 < len(cases):\n",
    "    recovered.append(cases[counter3] - deaths[counter3] - actives[counter3])\n",
    "    counter3 += 1"
   ]
  },
  {
   "cell_type": "code",
   "execution_count": 277,
   "metadata": {},
   "outputs": [
    {
     "data": {
      "text/plain": [
       "[129382,\n",
       " 77245,\n",
       " 108485,\n",
       " 29425,\n",
       " 63712,\n",
       " 113943,\n",
       " 93157,\n",
       " 12260,\n",
       " 14697,\n",
       " 70437,\n",
       " 55318,\n",
       " 52841,\n",
       " 5036,\n",
       " 43026,\n",
       " 8913,\n",
       " 41438,\n",
       " 31827,\n",
       " 36999,\n",
       " 19181,\n",
       " 14370,\n",
       " 22082,\n",
       " 34377,\n",
       " 12446,\n",
       " 10119,\n",
       " 25758,\n",
       " 22167,\n",
       " 25686,\n",
       " 14764,\n",
       " 5503,\n",
       " 17834,\n",
       " 14496,\n",
       " 14927,\n",
       " 4841,\n",
       " 13005,\n",
       " 1677,\n",
       " 10519,\n",
       " 5986,\n",
       " 6815,\n",
       " 2877,\n",
       " 1574,\n",
       " 2907,\n",
       " 6190,\n",
       " 4758,\n",
       " 3413,\n",
       " 2600,\n",
       " 2816,\n",
       " 1274,\n",
       " 716,\n",
       " 1039,\n",
       " 560,\n",
       " 797]"
      ]
     },
     "execution_count": 277,
     "metadata": {},
     "output_type": "execute_result"
    }
   ],
   "source": [
    "# Print the recovered list\n",
    "recovered"
   ]
  },
  {
   "cell_type": "code",
   "execution_count": null,
   "metadata": {},
   "outputs": [],
   "source": []
  }
 ],
 "metadata": {
  "kernelspec": {
   "display_name": "Python 3",
   "language": "python",
   "name": "python3"
  },
  "language_info": {
   "codemirror_mode": {
    "name": "ipython",
    "version": 3
   },
   "file_extension": ".py",
   "mimetype": "text/x-python",
   "name": "python",
   "nbconvert_exporter": "python",
   "pygments_lexer": "ipython3",
   "version": "3.7.4"
  }
 },
 "nbformat": 4,
 "nbformat_minor": 2
}
