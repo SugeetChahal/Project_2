{
 "cells": [
  {
   "cell_type": "markdown",
   "metadata": {},
   "source": [
    "# COVID-19 Web Scrape"
   ]
  },
  {
   "cell_type": "code",
   "execution_count": 1,
   "metadata": {},
   "outputs": [],
   "source": [
    "# Import Dependencies\n",
    "from bs4 import BeautifulSoup as bs\n",
    "import requests\n",
    "from splinter import Browser\n",
    "import os\n",
    "import pandas as pd\n",
    "import time"
   ]
  },
  {
   "cell_type": "code",
   "execution_count": 2,
   "metadata": {},
   "outputs": [],
   "source": [
    "# Create an executable path that works for both types of os\n",
    "if os.name==\"nt\":\n",
    "    executable_path = {'executable_path': './chromedriver.exe'}\n",
    "else:\n",
    "    executable_path = {\"executable_path\": \"/usr/local/bin/chromedriver\"}"
   ]
  },
  {
   "cell_type": "code",
   "execution_count": 3,
   "metadata": {},
   "outputs": [],
   "source": [
    "#\n",
    "covid_url = 'https://www.worldometers.info/coronavirus/country/us/'\n",
    "browser = Browser('chrome', **executable_path, headless=False)\n",
    "browser.visit(covid_url)\n",
    "time.sleep(5)"
   ]
  },
  {
   "cell_type": "code",
   "execution_count": 4,
   "metadata": {},
   "outputs": [
    {
     "data": {
      "text/plain": [
       "bs4.BeautifulSoup"
      ]
     },
     "execution_count": 4,
     "metadata": {},
     "output_type": "execute_result"
    }
   ],
   "source": [
    "# Create a Beautiful Soup object; parse with 'html.parser'; double check that it's bs4\n",
    "news_html = browser.html\n",
    "news_soup = bs(news_html, 'html.parser')\n",
    "type(news_soup)"
   ]
  },
  {
   "cell_type": "code",
   "execution_count": 5,
   "metadata": {},
   "outputs": [
    {
     "name": "stdout",
     "output_type": "stream",
     "text": [
      "3479483\n",
      "428303\n",
      "336037\n",
      "282435\n",
      "274712\n",
      "181366\n",
      "155931\n",
      "123824\n",
      "120569\n",
      "111827\n",
      "100378\n",
      "87729\n",
      "79827\n",
      "77198\n",
      "73527\n",
      "71642\n",
      "66891\n",
      "65274\n",
      "58168\n",
      "55545\n",
      "52037\n",
      "47510\n",
      "42772\n",
      "42741\n",
      "37242\n",
      "36942\n",
      "36680\n",
      "35607\n",
      "30049\n",
      "30030\n",
      "28939\n",
      "28515\n",
      "21399\n",
      "20745\n",
      "20241\n",
      "19653\n",
      "17487\n",
      "15291\n",
      "12879\n",
      "12438\n",
      "11402\n",
      "10906\n",
      "7524\n",
      "6068\n",
      "4442\n",
      "4313\n",
      "3558\n",
      "1904\n",
      "1843\n",
      "1539\n",
      "1301\n",
      "1243\n"
     ]
    }
   ],
   "source": [
    "# Parse through the elements to collect the cases data for the US; create an array to loop through the web scraped data and append it\n",
    "covid_news = news_soup.find('tbody').find_all('td', class_='sorting_1')\n",
    "# print(covid_news)\n",
    "cases = []\n",
    "for news in covid_news:\n",
    "    cases.append(int(news.text.replace(',', '')))\n",
    "    print(int(news.text.replace(',', '')))"
   ]
  },
  {
   "cell_type": "code",
   "execution_count": 6,
   "metadata": {},
   "outputs": [
    {
     "name": "stdout",
     "output_type": "stream",
     "text": [
      "[<a class=\"mt_a\" href=\"/coronavirus/usa/new-york/\">New York</a>, <a class=\"mt_a\" href=\"/coronavirus/usa/california/\">California</a>, <a class=\"mt_a\" href=\"/coronavirus/usa/florida/\">Florida</a>, <a class=\"mt_a\" href=\"/coronavirus/usa/texas/\">Texas</a>, <a class=\"mt_a\" href=\"/coronavirus/usa/new-jersey/\">New Jersey</a>, <a class=\"mt_a\" href=\"/coronavirus/usa/illinois/\">Illinois</a>, <a class=\"mt_a\" href=\"/coronavirus/usa/arizona/\">Arizona</a>, <a class=\"mt_a\" href=\"/coronavirus/usa/georgia/\">Georgia</a>, <a class=\"mt_a\" href=\"/coronavirus/usa/massachusetts/\">Massachusetts</a>, <a class=\"mt_a\" href=\"/coronavirus/usa/pennsylvania/\">Pennsylvania</a>, <a class=\"mt_a\" href=\"/coronavirus/usa/north-carolina/\">North Carolina</a>, <a class=\"mt_a\" href=\"/coronavirus/usa/louisiana/\">Louisiana</a>, <a class=\"mt_a\" href=\"/coronavirus/usa/michigan/\">Michigan</a>, <a class=\"mt_a\" href=\"/coronavirus/usa/maryland/\">Maryland</a>, <a class=\"mt_a\" href=\"/coronavirus/usa/virginia/\">Virginia</a>, <a class=\"mt_a\" href=\"/coronavirus/usa/ohio/\">Ohio</a>, <a class=\"mt_a\" href=\"/coronavirus/usa/tennessee/\">Tennessee</a>, <a class=\"mt_a\" href=\"/coronavirus/usa/south-carolina/\">South Carolina</a>, <a class=\"mt_a\" href=\"/coronavirus/usa/alabama/\">Alabama</a>, <a class=\"mt_a\" href=\"/coronavirus/usa/indiana/\">Indiana</a>, <a class=\"mt_a\" href=\"/coronavirus/usa/connecticut/\">Connecticut</a>, <a class=\"mt_a\" href=\"/coronavirus/usa/minnesota/\">Minnesota</a>, <a class=\"mt_a\" href=\"/coronavirus/usa/washington/\">Washington</a>, <a class=\"mt_a\" href=\"/coronavirus/usa/colorado/\">Colorado</a>, <a class=\"mt_a\" href=\"/coronavirus/usa/wisconsin/\">Wisconsin</a>, <a class=\"mt_a\" href=\"/coronavirus/usa/mississippi/\">Mississippi</a>, <a class=\"mt_a\" href=\"/coronavirus/usa/iowa/\">Iowa</a>, <a class=\"mt_a\" href=\"/coronavirus/usa/missouri/\">Missouri</a>, <a class=\"mt_a\" href=\"/coronavirus/usa/utah/\">Utah</a>, <a class=\"mt_a\" href=\"/coronavirus/usa/arkansas/\">Arkansas</a>, <a class=\"mt_a\" href=\"/coronavirus/usa/nevada/\">Nevada</a>, <a class=\"mt_a\" href=\"/coronavirus/usa/nebraska/\">Nebraska</a>, <a class=\"mt_a\" href=\"/coronavirus/usa/oklahoma/\">Oklahoma</a>, <a class=\"mt_a\" href=\"/coronavirus/usa/kansas/\">Kansas</a>, <a class=\"mt_a\" href=\"/coronavirus/usa/kentucky/\">Kentucky</a>, <a class=\"mt_a\" href=\"/coronavirus/usa/rhode-island/\">Rhode Island</a>, <a class=\"mt_a\" href=\"/coronavirus/usa/new-mexico/\">New Mexico</a>, <a class=\"mt_a\" href=\"/coronavirus/usa/delaware/\">Delaware</a>, <a class=\"mt_a\" href=\"/coronavirus/usa/oregon/\">Oregon</a>, <a class=\"mt_a\" href=\"/coronavirus/usa/idaho/\">Idaho</a>, <a class=\"mt_a\" href=\"/coronavirus/usa/district-of-columbia/\">District Of Columbia</a>, <a class=\"mt_a\" href=\"/coronavirus/usa/south-dakota/\">South Dakota</a>, <a class=\"mt_a\" href=\"/coronavirus/usa/new-hampshire/\">New Hampshire</a>, <a class=\"mt_a\" href=\"/coronavirus/usa/north-dakota/\">North Dakota</a>, <a class=\"mt_a\" href=\"/coronavirus/usa/west-virginia/\">West Virginia</a>, <a class=\"mt_a\" href=\"/coronavirus/usa/maine/\">Maine</a>, <a class=\"mt_a\" href=\"/coronavirus/usa/wyoming/\">Wyoming</a>, <a class=\"mt_a\" href=\"/coronavirus/usa/montana/\">Montana</a>, <a class=\"mt_a\" href=\"/coronavirus/usa/alaska/\">Alaska</a>, <a class=\"mt_a\" href=\"/coronavirus/usa/vermont/\">Vermont</a>, <a class=\"mt_a\" href=\"/coronavirus/usa/hawaii/\">Hawaii</a>]\n",
      "New York\n",
      "California\n",
      "Florida\n",
      "Texas\n",
      "New Jersey\n",
      "Illinois\n",
      "Arizona\n",
      "Georgia\n",
      "Massachusetts\n",
      "Pennsylvania\n",
      "North Carolina\n",
      "Louisiana\n",
      "Michigan\n",
      "Maryland\n",
      "Virginia\n",
      "Ohio\n",
      "Tennessee\n",
      "South Carolina\n",
      "Alabama\n",
      "Indiana\n",
      "Connecticut\n",
      "Minnesota\n",
      "Washington\n",
      "Colorado\n",
      "Wisconsin\n",
      "Mississippi\n",
      "Iowa\n",
      "Missouri\n",
      "Utah\n",
      "Arkansas\n",
      "Nevada\n",
      "Nebraska\n",
      "Oklahoma\n",
      "Kansas\n",
      "Kentucky\n",
      "Rhode Island\n",
      "New Mexico\n",
      "Delaware\n",
      "Oregon\n",
      "Idaho\n",
      "District Of Columbia\n",
      "South Dakota\n",
      "New Hampshire\n",
      "North Dakota\n",
      "West Virginia\n",
      "Maine\n",
      "Wyoming\n",
      "Montana\n",
      "Alaska\n",
      "Vermont\n",
      "Hawaii\n"
     ]
    }
   ],
   "source": [
    "# Parse through the elements to collect the states data for the US (that way, the number will match with the found number of cases); create an array to loop through the web scraped data and append it\n",
    "covid_cases = news_soup.find('tbody').find_all('a', class_=\"mt_a\")\n",
    "states = []\n",
    "print(covid_cases)\n",
    "for num in covid_cases:\n",
    "    states.append(num.text)\n",
    "    print(num.text)"
   ]
  },
  {
   "cell_type": "code",
   "execution_count": 7,
   "metadata": {},
   "outputs": [],
   "source": [
    "# Parse through the elements to collect the states data for the US (that way, the number will match with the found number of cases); create an array to loop through the web scraped data and append it\n",
    "covid_deaths = news_soup.find('tbody').find_all('td')\n",
    "unfiltered_data = []\n",
    "# print(covid_deaths)\n",
    "for num in covid_deaths:\n",
    "    unfiltered_data.append(num.text)\n",
    "#     print(num.text)"
   ]
  },
  {
   "cell_type": "code",
   "execution_count": 8,
   "metadata": {},
   "outputs": [
    {
     "data": {
      "text/plain": [
       "32445"
      ]
     },
     "execution_count": 8,
     "metadata": {},
     "output_type": "execute_result"
    }
   ],
   "source": [
    "# Testing the first death case to get the initial counter\n",
    "int(unfiltered_data[15].strip('\\n').strip(' ').replace(',', ''))"
   ]
  },
  {
   "cell_type": "code",
   "execution_count": 9,
   "metadata": {},
   "outputs": [
    {
     "data": {
      "text/plain": [
       "'7096'"
      ]
     },
     "execution_count": 9,
     "metadata": {},
     "output_type": "execute_result"
    }
   ],
   "source": [
    "# Testing the second death case to get the gap between each counter\n",
    "unfiltered_data[27].strip('\\n').strip(' ').replace(',', '')"
   ]
  },
  {
   "cell_type": "code",
   "execution_count": 10,
   "metadata": {},
   "outputs": [],
   "source": [
    "# Create a counter and loop through the web scraped data\n",
    "counter = 15\n",
    "\n",
    "# Create a new list to hold the death cases\n",
    "deaths = []\n",
    "while counter > 0:\n",
    "    deaths.append(int(unfiltered_data[counter].strip('\\n').strip(' ').replace(',', '')))\n",
    "#     print(deaths2[a])\n",
    "    counter += 12\n",
    "    if len(deaths) == len(states):\n",
    "        break"
   ]
  },
  {
   "cell_type": "code",
   "execution_count": 11,
   "metadata": {},
   "outputs": [
    {
     "data": {
      "text/plain": [
       "[32445,\n",
       " 7096,\n",
       " 4277,\n",
       " 3340,\n",
       " 15639,\n",
       " 7394,\n",
       " 2245,\n",
       " 3026,\n",
       " 8330,\n",
       " 6963,\n",
       " 1551,\n",
       " 3428,\n",
       " 6321,\n",
       " 3325,\n",
       " 1968,\n",
       " 3069,\n",
       " 749,\n",
       " 972,\n",
       " 1124,\n",
       " 2762,\n",
       " 4371,\n",
       " 1542,\n",
       " 1438,\n",
       " 1727,\n",
       " 821,\n",
       " 1250,\n",
       " 755,\n",
       " 1133,\n",
       " 216,\n",
       " 323,\n",
       " 593,\n",
       " 288,\n",
       " 424,\n",
       " 297,\n",
       " 629,\n",
       " 984,\n",
       " 548,\n",
       " 517,\n",
       " 237,\n",
       " 102,\n",
       " 568,\n",
       " 109,\n",
       " 391,\n",
       " 87,\n",
       " 97,\n",
       " 114,\n",
       " 21,\n",
       " 32,\n",
       " 17,\n",
       " 56,\n",
       " 22]"
      ]
     },
     "execution_count": 11,
     "metadata": {},
     "output_type": "execute_result"
    }
   ],
   "source": [
    "# Print the deaths list\n",
    "deaths"
   ]
  },
  {
   "cell_type": "code",
   "execution_count": 12,
   "metadata": {},
   "outputs": [
    {
     "data": {
      "text/plain": [
       "'209034'"
      ]
     },
     "execution_count": 12,
     "metadata": {},
     "output_type": "execute_result"
    }
   ],
   "source": [
    "# Testing the first death case to get the initial counter\n",
    "unfiltered_data[17].strip('\\n').strip(' ').replace(',', '')"
   ]
  },
  {
   "cell_type": "code",
   "execution_count": 15,
   "metadata": {},
   "outputs": [
    {
     "data": {
      "text/plain": [
       "'239829'"
      ]
     },
     "execution_count": 15,
     "metadata": {},
     "output_type": "execute_result"
    }
   ],
   "source": [
    "# Testing the second death case to get the gap between each counter\n",
    "unfiltered_data[29].strip('\\n').strip(' ').replace(',', '')"
   ]
  },
  {
   "cell_type": "code",
   "execution_count": 22,
   "metadata": {},
   "outputs": [],
   "source": [
    "# Create a counter and loop through the web scraped data\n",
    "counter2 = 17\n",
    "\n",
    "# Create a new list to hold the death cases\n",
    "actives = []\n",
    "while counter2 > 0:\n",
    "    actives.append(int(unfiltered_data[counter2].strip('\\n').strip(' ').replace(',', '')))\n",
    "#     print(type(int(unfiltered_data[counter2].strip('\\n').strip(' ').replace(',', ''))))\n",
    "    counter2 += 12\n",
    "    if len(actives) == len(states):\n",
    "        break"
   ]
  },
  {
   "cell_type": "code",
   "execution_count": 23,
   "metadata": {},
   "outputs": [
    {
     "data": {
      "text/plain": [
       "51"
      ]
     },
     "execution_count": 23,
     "metadata": {},
     "output_type": "execute_result"
    }
   ],
   "source": [
    "# Check the length of the states list\n",
    "len(states)"
   ]
  },
  {
   "cell_type": "code",
   "execution_count": 24,
   "metadata": {},
   "outputs": [
    {
     "data": {
      "text/plain": [
       "52"
      ]
     },
     "execution_count": 24,
     "metadata": {},
     "output_type": "execute_result"
    }
   ],
   "source": [
    "# Check the length of the cases list\n",
    "len(cases)"
   ]
  },
  {
   "cell_type": "code",
   "execution_count": 25,
   "metadata": {},
   "outputs": [
    {
     "data": {
      "text/plain": [
       "51"
      ]
     },
     "execution_count": 25,
     "metadata": {},
     "output_type": "execute_result"
    }
   ],
   "source": [
    "# Check the length of the deaths list\n",
    "len(deaths)"
   ]
  },
  {
   "cell_type": "code",
   "execution_count": 26,
   "metadata": {},
   "outputs": [
    {
     "data": {
      "text/plain": [
       "51"
      ]
     },
     "execution_count": 26,
     "metadata": {},
     "output_type": "execute_result"
    }
   ],
   "source": [
    "# Check the length of the actives list\n",
    "len(actives)"
   ]
  },
  {
   "cell_type": "code",
   "execution_count": 27,
   "metadata": {},
   "outputs": [
    {
     "data": {
      "text/plain": [
       "3479483"
      ]
     },
     "execution_count": 27,
     "metadata": {},
     "output_type": "execute_result"
    }
   ],
   "source": [
    "# Erased the first index of the cases list because it's the total cases in the US\n",
    "cases.pop(0)"
   ]
  },
  {
   "cell_type": "code",
   "execution_count": 28,
   "metadata": {},
   "outputs": [
    {
     "data": {
      "text/plain": [
       "[428303,\n",
       " 336037,\n",
       " 282435,\n",
       " 274712,\n",
       " 181366,\n",
       " 155931,\n",
       " 123824,\n",
       " 120569,\n",
       " 111827,\n",
       " 100378,\n",
       " 87729,\n",
       " 79827,\n",
       " 77198,\n",
       " 73527,\n",
       " 71642,\n",
       " 66891,\n",
       " 65274,\n",
       " 58168,\n",
       " 55545,\n",
       " 52037,\n",
       " 47510,\n",
       " 42772,\n",
       " 42741,\n",
       " 37242,\n",
       " 36942,\n",
       " 36680,\n",
       " 35607,\n",
       " 30049,\n",
       " 30030,\n",
       " 28939,\n",
       " 28515,\n",
       " 21399,\n",
       " 20745,\n",
       " 20241,\n",
       " 19653,\n",
       " 17487,\n",
       " 15291,\n",
       " 12879,\n",
       " 12438,\n",
       " 11402,\n",
       " 10906,\n",
       " 7524,\n",
       " 6068,\n",
       " 4442,\n",
       " 4313,\n",
       " 3558,\n",
       " 1904,\n",
       " 1843,\n",
       " 1539,\n",
       " 1301,\n",
       " 1243]"
      ]
     },
     "execution_count": 28,
     "metadata": {},
     "output_type": "execute_result"
    }
   ],
   "source": [
    "# Print the cases list\n",
    "cases"
   ]
  },
  {
   "cell_type": "code",
   "execution_count": 29,
   "metadata": {},
   "outputs": [
    {
     "data": {
      "text/plain": [
       "['New York',\n",
       " 'California',\n",
       " 'Florida',\n",
       " 'Texas',\n",
       " 'New Jersey',\n",
       " 'Illinois',\n",
       " 'Arizona',\n",
       " 'Georgia',\n",
       " 'Massachusetts',\n",
       " 'Pennsylvania',\n",
       " 'North Carolina',\n",
       " 'Louisiana',\n",
       " 'Michigan',\n",
       " 'Maryland',\n",
       " 'Virginia',\n",
       " 'Ohio',\n",
       " 'Tennessee',\n",
       " 'South Carolina',\n",
       " 'Alabama',\n",
       " 'Indiana',\n",
       " 'Connecticut',\n",
       " 'Minnesota',\n",
       " 'Washington',\n",
       " 'Colorado',\n",
       " 'Wisconsin',\n",
       " 'Mississippi',\n",
       " 'Iowa',\n",
       " 'Missouri',\n",
       " 'Utah',\n",
       " 'Arkansas',\n",
       " 'Nevada',\n",
       " 'Nebraska',\n",
       " 'Oklahoma',\n",
       " 'Kansas',\n",
       " 'Kentucky',\n",
       " 'Rhode Island',\n",
       " 'New Mexico',\n",
       " 'Delaware',\n",
       " 'Oregon',\n",
       " 'Idaho',\n",
       " 'District Of Columbia',\n",
       " 'South Dakota',\n",
       " 'New Hampshire',\n",
       " 'North Dakota',\n",
       " 'West Virginia',\n",
       " 'Maine',\n",
       " 'Wyoming',\n",
       " 'Montana',\n",
       " 'Alaska',\n",
       " 'Vermont',\n",
       " 'Hawaii']"
      ]
     },
     "execution_count": 29,
     "metadata": {},
     "output_type": "execute_result"
    }
   ],
   "source": [
    "# Print the states list\n",
    "states"
   ]
  },
  {
   "cell_type": "code",
   "execution_count": 31,
   "metadata": {},
   "outputs": [],
   "source": [
    "# Create a recovered list to get the numbers from the cases, deaths and actives list\n",
    "recovered = []\n",
    "counter3 = 0\n",
    "while counter3 < len(cases):\n",
    "    recovered.append(cases[counter3] - deaths[counter3] - actives[counter3])\n",
    "    counter3 += 1"
   ]
  },
  {
   "cell_type": "code",
   "execution_count": 32,
   "metadata": {},
   "outputs": [
    {
     "data": {
      "text/plain": [
       "[186824,\n",
       " 89112,\n",
       " 33290,\n",
       " 136419,\n",
       " 81685,\n",
       " 115839,\n",
       " 15254,\n",
       " 19185,\n",
       " 94347,\n",
       " 73721,\n",
       " 55318,\n",
       " 46334,\n",
       " 52841,\n",
       " 5230,\n",
       " 9330,\n",
       " 45194,\n",
       " 36996,\n",
       " 20956,\n",
       " 25783,\n",
       " 38914,\n",
       " 16885,\n",
       " 37199,\n",
       " 13664,\n",
       " 12571,\n",
       " 28670,\n",
       " 25932,\n",
       " 26726,\n",
       " 6270,\n",
       " 17728,\n",
       " 22106,\n",
       " 18908,\n",
       " 16025,\n",
       " 15815,\n",
       " 11304,\n",
       " 5344,\n",
       " 1691,\n",
       " 6363,\n",
       " 7139,\n",
       " 3094,\n",
       " 3262,\n",
       " 1756,\n",
       " 6543,\n",
       " 5056,\n",
       " 3653,\n",
       " 2883,\n",
       " 3008,\n",
       " 1412,\n",
       " 875,\n",
       " 620,\n",
       " 1096,\n",
       " 911]"
      ]
     },
     "execution_count": 32,
     "metadata": {},
     "output_type": "execute_result"
    }
   ],
   "source": [
    "# Print the recovered list\n",
    "recovered"
   ]
  },
  {
   "cell_type": "code",
   "execution_count": 76,
   "metadata": {},
   "outputs": [
    {
     "name": "stdout",
     "output_type": "stream",
     "text": [
      "New York\n",
      "California\n",
      "Florida\n",
      "Texas\n",
      "New Jersey\n",
      "Illinois\n",
      "Arizona\n",
      "Georgia\n",
      "Massachusetts\n",
      "Pennsylvania\n",
      "North Carolina\n",
      "Louisiana\n",
      "Michigan\n",
      "Maryland\n",
      "Virginia\n",
      "Ohio\n",
      "Tennessee\n",
      "South Carolina\n",
      "Alabama\n",
      "Indiana\n",
      "Connecticut\n",
      "Minnesota\n",
      "Washington\n",
      "Colorado\n",
      "Wisconsin\n",
      "Mississippi\n",
      "Iowa\n",
      "Missouri\n",
      "Utah\n",
      "Arkansas\n",
      "Nevada\n",
      "Nebraska\n",
      "Oklahoma\n",
      "Kansas\n",
      "Kentucky\n",
      "Rhode Island\n",
      "New Mexico\n",
      "Delaware\n",
      "Oregon\n",
      "Idaho\n",
      "District Of Columbia\n",
      "South Dakota\n",
      "New Hampshire\n",
      "North Dakota\n",
      "West Virginia\n",
      "Maine\n",
      "Wyoming\n",
      "Montana\n",
      "Alaska\n",
      "Vermont\n",
      "Hawaii\n"
     ]
    }
   ],
   "source": [
    "# Create JSON format\n",
    "covid_data = {}\n",
    "for i in range(len(states)):\n",
    "    print(states[i])\n",
    "    covid_data[i] = {\n",
    "        \"states\": states[i],\n",
    "        \"cases\": cases[i],\n",
    "        \"deaths\": deaths[i],\n",
    "        \"actives\": actives[i],\n",
    "        \"recovered\": recovered[i]\n",
    "    }"
   ]
  },
  {
   "cell_type": "code",
   "execution_count": 77,
   "metadata": {},
   "outputs": [
    {
     "data": {
      "text/plain": [
       "{0: {'states': 'New York',\n",
       "  'cases': 428303,\n",
       "  'deaths': 32445,\n",
       "  'actives': 209034,\n",
       "  'recovered': 186824},\n",
       " 1: {'states': 'California',\n",
       "  'cases': 336037,\n",
       "  'deaths': 7096,\n",
       "  'actives': 239829,\n",
       "  'recovered': 89112},\n",
       " 2: {'states': 'Florida',\n",
       "  'cases': 282435,\n",
       "  'deaths': 4277,\n",
       "  'actives': 244868,\n",
       "  'recovered': 33290},\n",
       " 3: {'states': 'Texas',\n",
       "  'cases': 274712,\n",
       "  'deaths': 3340,\n",
       "  'actives': 134953,\n",
       "  'recovered': 136419},\n",
       " 4: {'states': 'New Jersey',\n",
       "  'cases': 181366,\n",
       "  'deaths': 15639,\n",
       "  'actives': 84042,\n",
       "  'recovered': 81685},\n",
       " 5: {'states': 'Illinois',\n",
       "  'cases': 155931,\n",
       "  'deaths': 7394,\n",
       "  'actives': 32698,\n",
       "  'recovered': 115839},\n",
       " 6: {'states': 'Arizona',\n",
       "  'cases': 123824,\n",
       "  'deaths': 2245,\n",
       "  'actives': 106325,\n",
       "  'recovered': 15254},\n",
       " 7: {'states': 'Georgia',\n",
       "  'cases': 120569,\n",
       "  'deaths': 3026,\n",
       "  'actives': 98358,\n",
       "  'recovered': 19185},\n",
       " 8: {'states': 'Massachusetts',\n",
       "  'cases': 111827,\n",
       "  'deaths': 8330,\n",
       "  'actives': 9150,\n",
       "  'recovered': 94347},\n",
       " 9: {'states': 'Pennsylvania',\n",
       "  'cases': 100378,\n",
       "  'deaths': 6963,\n",
       "  'actives': 19694,\n",
       "  'recovered': 73721},\n",
       " 10: {'states': 'North Carolina',\n",
       "  'cases': 87729,\n",
       "  'deaths': 1551,\n",
       "  'actives': 30860,\n",
       "  'recovered': 55318},\n",
       " 11: {'states': 'Louisiana',\n",
       "  'cases': 79827,\n",
       "  'deaths': 3428,\n",
       "  'actives': 30065,\n",
       "  'recovered': 46334},\n",
       " 12: {'states': 'Michigan',\n",
       "  'cases': 77198,\n",
       "  'deaths': 6321,\n",
       "  'actives': 18036,\n",
       "  'recovered': 52841},\n",
       " 13: {'states': 'Maryland',\n",
       "  'cases': 73527,\n",
       "  'deaths': 3325,\n",
       "  'actives': 64972,\n",
       "  'recovered': 5230},\n",
       " 14: {'states': 'Virginia',\n",
       "  'cases': 71642,\n",
       "  'deaths': 1968,\n",
       "  'actives': 60344,\n",
       "  'recovered': 9330},\n",
       " 15: {'states': 'Ohio',\n",
       "  'cases': 66891,\n",
       "  'deaths': 3069,\n",
       "  'actives': 18628,\n",
       "  'recovered': 45194},\n",
       " 16: {'states': 'Tennessee',\n",
       "  'cases': 65274,\n",
       "  'deaths': 749,\n",
       "  'actives': 27529,\n",
       "  'recovered': 36996},\n",
       " 17: {'states': 'South Carolina',\n",
       "  'cases': 58168,\n",
       "  'deaths': 972,\n",
       "  'actives': 36240,\n",
       "  'recovered': 20956},\n",
       " 18: {'states': 'Alabama',\n",
       "  'cases': 55545,\n",
       "  'deaths': 1124,\n",
       "  'actives': 28638,\n",
       "  'recovered': 25783},\n",
       " 19: {'states': 'Indiana',\n",
       "  'cases': 52037,\n",
       "  'deaths': 2762,\n",
       "  'actives': 10361,\n",
       "  'recovered': 38914},\n",
       " 20: {'states': 'Connecticut',\n",
       "  'cases': 47510,\n",
       "  'deaths': 4371,\n",
       "  'actives': 26254,\n",
       "  'recovered': 16885},\n",
       " 21: {'states': 'Minnesota',\n",
       "  'cases': 42772,\n",
       "  'deaths': 1542,\n",
       "  'actives': 4031,\n",
       "  'recovered': 37199},\n",
       " 22: {'states': 'Washington',\n",
       "  'cases': 42741,\n",
       "  'deaths': 1438,\n",
       "  'actives': 27639,\n",
       "  'recovered': 13664},\n",
       " 23: {'states': 'Colorado',\n",
       "  'cases': 37242,\n",
       "  'deaths': 1727,\n",
       "  'actives': 22944,\n",
       "  'recovered': 12571},\n",
       " 24: {'states': 'Wisconsin',\n",
       "  'cases': 36942,\n",
       "  'deaths': 821,\n",
       "  'actives': 7451,\n",
       "  'recovered': 28670},\n",
       " 25: {'states': 'Mississippi',\n",
       "  'cases': 36680,\n",
       "  'deaths': 1250,\n",
       "  'actives': 9498,\n",
       "  'recovered': 25932},\n",
       " 26: {'states': 'Iowa',\n",
       "  'cases': 35607,\n",
       "  'deaths': 755,\n",
       "  'actives': 8126,\n",
       "  'recovered': 26726},\n",
       " 27: {'states': 'Missouri',\n",
       "  'cases': 30049,\n",
       "  'deaths': 1133,\n",
       "  'actives': 22646,\n",
       "  'recovered': 6270},\n",
       " 28: {'states': 'Utah',\n",
       "  'cases': 30030,\n",
       "  'deaths': 216,\n",
       "  'actives': 12086,\n",
       "  'recovered': 17728},\n",
       " 29: {'states': 'Arkansas',\n",
       "  'cases': 28939,\n",
       "  'deaths': 323,\n",
       "  'actives': 6510,\n",
       "  'recovered': 22106},\n",
       " 30: {'states': 'Nevada',\n",
       "  'cases': 28515,\n",
       "  'deaths': 593,\n",
       "  'actives': 9014,\n",
       "  'recovered': 18908},\n",
       " 31: {'states': 'Nebraska',\n",
       "  'cases': 21399,\n",
       "  'deaths': 288,\n",
       "  'actives': 5086,\n",
       "  'recovered': 16025},\n",
       " 32: {'states': 'Oklahoma',\n",
       "  'cases': 20745,\n",
       "  'deaths': 424,\n",
       "  'actives': 4506,\n",
       "  'recovered': 15815},\n",
       " 33: {'states': 'Kansas',\n",
       "  'cases': 20241,\n",
       "  'deaths': 297,\n",
       "  'actives': 8640,\n",
       "  'recovered': 11304},\n",
       " 34: {'states': 'Kentucky',\n",
       "  'cases': 19653,\n",
       "  'deaths': 629,\n",
       "  'actives': 13680,\n",
       "  'recovered': 5344},\n",
       " 35: {'states': 'Rhode Island',\n",
       "  'cases': 17487,\n",
       "  'deaths': 984,\n",
       "  'actives': 14812,\n",
       "  'recovered': 1691},\n",
       " 36: {'states': 'New Mexico',\n",
       "  'cases': 15291,\n",
       "  'deaths': 548,\n",
       "  'actives': 8380,\n",
       "  'recovered': 6363},\n",
       " 37: {'states': 'Delaware',\n",
       "  'cases': 12879,\n",
       "  'deaths': 517,\n",
       "  'actives': 5223,\n",
       "  'recovered': 7139},\n",
       " 38: {'states': 'Oregon',\n",
       "  'cases': 12438,\n",
       "  'deaths': 237,\n",
       "  'actives': 9107,\n",
       "  'recovered': 3094},\n",
       " 39: {'states': 'Idaho',\n",
       "  'cases': 11402,\n",
       "  'deaths': 102,\n",
       "  'actives': 8038,\n",
       "  'recovered': 3262},\n",
       " 40: {'states': 'District Of Columbia',\n",
       "  'cases': 10906,\n",
       "  'deaths': 568,\n",
       "  'actives': 8582,\n",
       "  'recovered': 1756},\n",
       " 41: {'states': 'South Dakota',\n",
       "  'cases': 7524,\n",
       "  'deaths': 109,\n",
       "  'actives': 872,\n",
       "  'recovered': 6543},\n",
       " 42: {'states': 'New Hampshire',\n",
       "  'cases': 6068,\n",
       "  'deaths': 391,\n",
       "  'actives': 621,\n",
       "  'recovered': 5056},\n",
       " 43: {'states': 'North Dakota',\n",
       "  'cases': 4442,\n",
       "  'deaths': 87,\n",
       "  'actives': 702,\n",
       "  'recovered': 3653},\n",
       " 44: {'states': 'West Virginia',\n",
       "  'cases': 4313,\n",
       "  'deaths': 97,\n",
       "  'actives': 1333,\n",
       "  'recovered': 2883},\n",
       " 45: {'states': 'Maine',\n",
       "  'cases': 3558,\n",
       "  'deaths': 114,\n",
       "  'actives': 436,\n",
       "  'recovered': 3008},\n",
       " 46: {'states': 'Wyoming',\n",
       "  'cases': 1904,\n",
       "  'deaths': 21,\n",
       "  'actives': 471,\n",
       "  'recovered': 1412},\n",
       " 47: {'states': 'Montana',\n",
       "  'cases': 1843,\n",
       "  'deaths': 32,\n",
       "  'actives': 936,\n",
       "  'recovered': 875},\n",
       " 48: {'states': 'Alaska',\n",
       "  'cases': 1539,\n",
       "  'deaths': 17,\n",
       "  'actives': 902,\n",
       "  'recovered': 620},\n",
       " 49: {'states': 'Vermont',\n",
       "  'cases': 1301,\n",
       "  'deaths': 56,\n",
       "  'actives': 149,\n",
       "  'recovered': 1096},\n",
       " 50: {'states': 'Hawaii',\n",
       "  'cases': 1243,\n",
       "  'deaths': 22,\n",
       "  'actives': 310,\n",
       "  'recovered': 911}}"
      ]
     },
     "execution_count": 77,
     "metadata": {},
     "output_type": "execute_result"
    }
   ],
   "source": [
    "# Check the data\n",
    "covid_data"
   ]
  },
  {
   "cell_type": "code",
   "execution_count": 80,
   "metadata": {},
   "outputs": [
    {
     "data": {
      "text/plain": [
       "{'states': 'California',\n",
       " 'cases': 336037,\n",
       " 'deaths': 7096,\n",
       " 'actives': 239829,\n",
       " 'recovered': 89112}"
      ]
     },
     "execution_count": 80,
     "metadata": {},
     "output_type": "execute_result"
    }
   ],
   "source": [
    "covid_data[1]"
   ]
  },
  {
   "cell_type": "code",
   "execution_count": 69,
   "metadata": {},
   "outputs": [
    {
     "data": {
      "text/plain": [
       "{'states': ['New York',\n",
       "  'California',\n",
       "  'Florida',\n",
       "  'Texas',\n",
       "  'New Jersey',\n",
       "  'Illinois',\n",
       "  'Arizona',\n",
       "  'Georgia',\n",
       "  'Massachusetts',\n",
       "  'Pennsylvania',\n",
       "  'North Carolina',\n",
       "  'Louisiana',\n",
       "  'Michigan',\n",
       "  'Maryland',\n",
       "  'Virginia',\n",
       "  'Ohio',\n",
       "  'Tennessee',\n",
       "  'South Carolina',\n",
       "  'Alabama',\n",
       "  'Indiana',\n",
       "  'Connecticut',\n",
       "  'Minnesota',\n",
       "  'Washington',\n",
       "  'Colorado',\n",
       "  'Wisconsin',\n",
       "  'Mississippi',\n",
       "  'Iowa',\n",
       "  'Missouri',\n",
       "  'Utah',\n",
       "  'Arkansas',\n",
       "  'Nevada',\n",
       "  'Nebraska',\n",
       "  'Oklahoma',\n",
       "  'Kansas',\n",
       "  'Kentucky',\n",
       "  'Rhode Island',\n",
       "  'New Mexico',\n",
       "  'Delaware',\n",
       "  'Oregon',\n",
       "  'Idaho',\n",
       "  'District Of Columbia',\n",
       "  'South Dakota',\n",
       "  'New Hampshire',\n",
       "  'North Dakota',\n",
       "  'West Virginia',\n",
       "  'Maine',\n",
       "  'Wyoming',\n",
       "  'Montana',\n",
       "  'Alaska',\n",
       "  'Vermont',\n",
       "  'Hawaii'],\n",
       " 'cases': [428303,\n",
       "  336037,\n",
       "  282435,\n",
       "  274712,\n",
       "  181366,\n",
       "  155931,\n",
       "  123824,\n",
       "  120569,\n",
       "  111827,\n",
       "  100378,\n",
       "  87729,\n",
       "  79827,\n",
       "  77198,\n",
       "  73527,\n",
       "  71642,\n",
       "  66891,\n",
       "  65274,\n",
       "  58168,\n",
       "  55545,\n",
       "  52037,\n",
       "  47510,\n",
       "  42772,\n",
       "  42741,\n",
       "  37242,\n",
       "  36942,\n",
       "  36680,\n",
       "  35607,\n",
       "  30049,\n",
       "  30030,\n",
       "  28939,\n",
       "  28515,\n",
       "  21399,\n",
       "  20745,\n",
       "  20241,\n",
       "  19653,\n",
       "  17487,\n",
       "  15291,\n",
       "  12879,\n",
       "  12438,\n",
       "  11402,\n",
       "  10906,\n",
       "  7524,\n",
       "  6068,\n",
       "  4442,\n",
       "  4313,\n",
       "  3558,\n",
       "  1904,\n",
       "  1843,\n",
       "  1539,\n",
       "  1301,\n",
       "  1243],\n",
       " 'deaths': [32445,\n",
       "  7096,\n",
       "  4277,\n",
       "  3340,\n",
       "  15639,\n",
       "  7394,\n",
       "  2245,\n",
       "  3026,\n",
       "  8330,\n",
       "  6963,\n",
       "  1551,\n",
       "  3428,\n",
       "  6321,\n",
       "  3325,\n",
       "  1968,\n",
       "  3069,\n",
       "  749,\n",
       "  972,\n",
       "  1124,\n",
       "  2762,\n",
       "  4371,\n",
       "  1542,\n",
       "  1438,\n",
       "  1727,\n",
       "  821,\n",
       "  1250,\n",
       "  755,\n",
       "  1133,\n",
       "  216,\n",
       "  323,\n",
       "  593,\n",
       "  288,\n",
       "  424,\n",
       "  297,\n",
       "  629,\n",
       "  984,\n",
       "  548,\n",
       "  517,\n",
       "  237,\n",
       "  102,\n",
       "  568,\n",
       "  109,\n",
       "  391,\n",
       "  87,\n",
       "  97,\n",
       "  114,\n",
       "  21,\n",
       "  32,\n",
       "  17,\n",
       "  56,\n",
       "  22],\n",
       " 'actives': [209034,\n",
       "  239829,\n",
       "  244868,\n",
       "  134953,\n",
       "  84042,\n",
       "  32698,\n",
       "  106325,\n",
       "  98358,\n",
       "  9150,\n",
       "  19694,\n",
       "  30860,\n",
       "  30065,\n",
       "  18036,\n",
       "  64972,\n",
       "  60344,\n",
       "  18628,\n",
       "  27529,\n",
       "  36240,\n",
       "  28638,\n",
       "  10361,\n",
       "  26254,\n",
       "  4031,\n",
       "  27639,\n",
       "  22944,\n",
       "  7451,\n",
       "  9498,\n",
       "  8126,\n",
       "  22646,\n",
       "  12086,\n",
       "  6510,\n",
       "  9014,\n",
       "  5086,\n",
       "  4506,\n",
       "  8640,\n",
       "  13680,\n",
       "  14812,\n",
       "  8380,\n",
       "  5223,\n",
       "  9107,\n",
       "  8038,\n",
       "  8582,\n",
       "  872,\n",
       "  621,\n",
       "  702,\n",
       "  1333,\n",
       "  436,\n",
       "  471,\n",
       "  936,\n",
       "  902,\n",
       "  149,\n",
       "  310],\n",
       " 'recovered': [186824,\n",
       "  89112,\n",
       "  33290,\n",
       "  136419,\n",
       "  81685,\n",
       "  115839,\n",
       "  15254,\n",
       "  19185,\n",
       "  94347,\n",
       "  73721,\n",
       "  55318,\n",
       "  46334,\n",
       "  52841,\n",
       "  5230,\n",
       "  9330,\n",
       "  45194,\n",
       "  36996,\n",
       "  20956,\n",
       "  25783,\n",
       "  38914,\n",
       "  16885,\n",
       "  37199,\n",
       "  13664,\n",
       "  12571,\n",
       "  28670,\n",
       "  25932,\n",
       "  26726,\n",
       "  6270,\n",
       "  17728,\n",
       "  22106,\n",
       "  18908,\n",
       "  16025,\n",
       "  15815,\n",
       "  11304,\n",
       "  5344,\n",
       "  1691,\n",
       "  6363,\n",
       "  7139,\n",
       "  3094,\n",
       "  3262,\n",
       "  1756,\n",
       "  6543,\n",
       "  5056,\n",
       "  3653,\n",
       "  2883,\n",
       "  3008,\n",
       "  1412,\n",
       "  875,\n",
       "  620,\n",
       "  1096,\n",
       "  911]}"
      ]
     },
     "execution_count": 69,
     "metadata": {},
     "output_type": "execute_result"
    }
   ],
   "source": [
    "covid_data = {}\n",
    "covid_data[\"states\"] = states\n",
    "covid_data[\"cases\"] = cases\n",
    "covid_data[\"deaths\"] = deaths\n",
    "covid_data[\"actives\"] = actives\n",
    "covid_data[\"recovered\"] = recovered\n",
    "covid_data"
   ]
  },
  {
   "cell_type": "code",
   "execution_count": 74,
   "metadata": {},
   "outputs": [
    {
     "data": {
      "text/plain": [
       "'Hawaii'"
      ]
     },
     "execution_count": 74,
     "metadata": {},
     "output_type": "execute_result"
    }
   ],
   "source": [
    "covid_data[\"states\"][50]"
   ]
  },
  {
   "cell_type": "code",
   "execution_count": 72,
   "metadata": {},
   "outputs": [
    {
     "data": {
      "text/plain": [
       "range(0, 51)"
      ]
     },
     "execution_count": 72,
     "metadata": {},
     "output_type": "execute_result"
    }
   ],
   "source": [
    "range(len(covid_data[\"states\"]))"
   ]
  },
  {
   "cell_type": "code",
   "execution_count": null,
   "metadata": {},
   "outputs": [],
   "source": []
  }
 ],
 "metadata": {
  "kernelspec": {
   "display_name": "Python 3",
   "language": "python",
   "name": "python3"
  },
  "language_info": {
   "codemirror_mode": {
    "name": "ipython",
    "version": 3
   },
   "file_extension": ".py",
   "mimetype": "text/x-python",
   "name": "python",
   "nbconvert_exporter": "python",
   "pygments_lexer": "ipython3",
   "version": "3.7.4"
  }
 },
 "nbformat": 4,
 "nbformat_minor": 2
}
