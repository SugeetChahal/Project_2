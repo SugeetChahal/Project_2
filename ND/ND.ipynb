{
 "cells": [
  {
   "cell_type": "markdown",
   "metadata": {},
   "source": [
    "# COVID-19 Web Scrape"
   ]
  },
  {
   "cell_type": "code",
   "execution_count": 23,
   "metadata": {},
   "outputs": [],
   "source": [
    "# Import Dependencies\n",
    "from bs4 import BeautifulSoup as bs\n",
    "import requests\n",
    "from splinter import Browser\n",
    "import os\n",
    "import pandas as pd\n",
    "import time"
   ]
  },
  {
   "cell_type": "code",
   "execution_count": 111,
   "metadata": {},
   "outputs": [],
   "source": [
    "# Create an executable path that works for both types of os\n",
    "if os.name==\"nt\":\n",
    "    executable_path = {'executable_path': './chromedriver.exe'}\n",
    "else:\n",
    "    executable_path = {\"executable_path\": \"/usr/local/bin/chromedriver\"}"
   ]
  },
  {
   "cell_type": "code",
   "execution_count": 112,
   "metadata": {},
   "outputs": [],
   "source": [
    "#\n",
    "covid_url = 'https://www.worldometers.info/coronavirus/country/us/'\n",
    "browser = Browser('chrome', **executable_path, headless=False)\n",
    "browser.visit(covid_url)\n",
    "time.sleep(5)"
   ]
  },
  {
   "cell_type": "code",
   "execution_count": 113,
   "metadata": {},
   "outputs": [
    {
     "data": {
      "text/plain": [
       "bs4.BeautifulSoup"
      ]
     },
     "execution_count": 113,
     "metadata": {},
     "output_type": "execute_result"
    }
   ],
   "source": [
    "# Create a Beautiful Soup object; parse with 'html.parser'; double check that it's bs4\n",
    "news_html = browser.html\n",
    "news_soup = bs(news_html, 'html.parser')\n",
    "type(news_soup)"
   ]
  },
  {
   "cell_type": "code",
   "execution_count": 27,
   "metadata": {},
   "outputs": [
    {
     "name": "stdout",
     "output_type": "stream",
     "text": [
      "3,097,084\n",
      "423,493 \n",
      "287,514 \n",
      "219,420 \n",
      "213,794 \n",
      "177,214 \n",
      "149,574 \n",
      "110,338 \n",
      "105,094 \n",
      "100,470 \n",
      "95,986  \n",
      "76,582 \n",
      "73,900 \n",
      "70,396 \n",
      "68,263 \n",
      "66,740 \n",
      "58,967 \n",
      "53,514 \n",
      "48,626 \n",
      "47,352 \n",
      "47,033 \n",
      "45,785 \n",
      "39,133 \n",
      "38,364 \n",
      "34,664 \n",
      "32,556 \n",
      "32,214 \n",
      "32,042 \n",
      "26,033 \n",
      "25,579 \n",
      "24,512 \n",
      "23,785 \n",
      "20,201 \n",
      "17,519 \n",
      "17,220 \n",
      "17,154 \n",
      "17,070 \n",
      "13,727 \n",
      "12,414 \n",
      "10,605 \n",
      "10,569 \n",
      "8,539 \n",
      "7,163 \n",
      "5,932 \n",
      "3,898 \n",
      "3,505 \n",
      "3,440 \n",
      "1,711 \n",
      "1,327 \n",
      "1,254 \n",
      "1,184 \n",
      "1,071 \n"
     ]
    }
   ],
   "source": [
    "# Parse through the elements to collect the cases data for the US; create an array to loop through the web scraped data and append it\n",
    "covid_news = news_soup.find('tbody').find_all('td', class_='sorting_1')\n",
    "# print(covid_news)\n",
    "cases = []\n",
    "for news in covid_news:\n",
    "    cases.append(news.text)\n",
    "    print(news.text)"
   ]
  },
  {
   "cell_type": "code",
   "execution_count": 37,
   "metadata": {},
   "outputs": [
    {
     "name": "stdout",
     "output_type": "stream",
     "text": [
      "New York\n",
      "California\n",
      "Texas\n",
      "Florida\n",
      "New Jersey\n",
      "Illinois\n",
      "Massachusetts\n",
      "Arizona\n",
      "Georgia\n",
      "Pennsylvania\n",
      "North Carolina\n",
      "Michigan\n",
      "Maryland\n",
      "Louisiana\n",
      "Virginia\n",
      "Ohio\n",
      "Tennessee\n",
      "Indiana\n",
      "South Carolina\n",
      "Connecticut\n",
      "Alabama\n",
      "Minnesota\n",
      "Washington\n",
      "Colorado\n",
      "Wisconsin\n",
      "Mississippi\n",
      "Iowa\n",
      "Utah\n",
      "Missouri\n",
      "Arkansas\n",
      "Nevada\n",
      "Nebraska\n",
      "Kentucky\n",
      "Oklahoma\n",
      "Rhode Island\n",
      "Kansas\n",
      "New Mexico\n",
      "Delaware\n",
      "Oregon\n",
      "District Of Columbia\n",
      "Idaho\n",
      "South Dakota\n",
      "New Hampshire\n",
      "North Dakota\n",
      "West Virginia\n",
      "Maine\n",
      "Wyoming\n",
      "Montana\n",
      "Vermont\n",
      "Alaska\n",
      "Hawaii\n"
     ]
    }
   ],
   "source": [
    "# Parse through the elements to collect the states data for the US (that way, the number will match with the found number of cases); create an array to loop through the web scraped data and append it\n",
    "covid_cases = news_soup.find('tbody').find_all('a', class_=\"mt_a\")\n",
    "states = []\n",
    "# print(covid_cases)\n",
    "for num in covid_cases:\n",
    "    states.append(num.text)\n",
    "    print(num.text)"
   ]
  },
  {
   "cell_type": "code",
   "execution_count": 180,
   "metadata": {},
   "outputs": [],
   "source": [
    "# Parse through the elements to collect the states data for the US (that way, the number will match with the found number of cases); create an array to loop through the web scraped data and append it\n",
    "covid_deaths = news_soup.find('tbody').find_all('td')\n",
    "unfiltered_data = []\n",
    "# print(covid_deaths)\n",
    "for num in covid_deaths:\n",
    "    unfiltered_data.append(num.text)\n",
    "#     print(num.text)"
   ]
  },
  {
   "cell_type": "code",
   "execution_count": 181,
   "metadata": {},
   "outputs": [
    {
     "data": {
      "text/plain": [
       "'32,292 '"
      ]
     },
     "execution_count": 181,
     "metadata": {},
     "output_type": "execute_result"
    }
   ],
   "source": [
    "# Testing the first death case to get the initial counter\n",
    "unfiltered_data[15].strip('\\n')"
   ]
  },
  {
   "cell_type": "code",
   "execution_count": 182,
   "metadata": {},
   "outputs": [
    {
     "data": {
      "text/plain": [
       "'6,563 '"
      ]
     },
     "execution_count": 182,
     "metadata": {},
     "output_type": "execute_result"
    }
   ],
   "source": [
    "# Testing the second death case to get the gap between each counter\n",
    "unfiltered_data[27].strip('\\n')"
   ]
  },
  {
   "cell_type": "code",
   "execution_count": 183,
   "metadata": {},
   "outputs": [],
   "source": [
    "# Create a counter and loop through the web scraped data\n",
    "counter = 15\n",
    "\n",
    "# Create a new list to hold the death cases\n",
    "deaths = []\n",
    "while a > 0:\n",
    "    deaths.append(unfiltered_data[counter].strip('\\n'))\n",
    "#     print(deaths2[a])\n",
    "    counter += 12\n",
    "    if len(deaths) == len(states):\n",
    "        break"
   ]
  },
  {
   "cell_type": "code",
   "execution_count": 184,
   "metadata": {},
   "outputs": [
    {
     "data": {
      "text/plain": [
       "['32,292 ',\n",
       " '6,563 ',\n",
       " '2,823 ',\n",
       " '3,841 ',\n",
       " '15,352 ',\n",
       " '7,273 ',\n",
       " '8,213 ',\n",
       " '1,927 ',\n",
       " '2,899 ',\n",
       " '6,841 ',\n",
       " '1,459 ',\n",
       " '6,251 ',\n",
       " '3,266 ',\n",
       " '3,325 ',\n",
       " '1,881 ',\n",
       " '2,979 ',\n",
       " '665 ',\n",
       " '2,717 ',\n",
       " '846 ',\n",
       " '4,338 ',\n",
       " '1,033 ',\n",
       " '1,514 ',\n",
       " '1,384 ',\n",
       " '1,701 ',\n",
       " '805 ',\n",
       " '1,158 ',\n",
       " '728 ',\n",
       " '194 ',\n",
       " '1,090 ',\n",
       " ' 301 ',\n",
       " '548 ',\n",
       " '282 ',\n",
       " '602 ',\n",
       " '404 ',\n",
       " '969 ',\n",
       " '288 ',\n",
       " '519 ',\n",
       " '514 ',\n",
       " '220 ',\n",
       " '561 ',\n",
       " '94 ',\n",
       " '98 ',\n",
       " '384 ',\n",
       " '84 ',\n",
       " '95 ',\n",
       " '110 ',\n",
       " '20 ',\n",
       " '23 ',\n",
       " '56 ',\n",
       " '17 ',\n",
       " '19 ']"
      ]
     },
     "execution_count": 184,
     "metadata": {},
     "output_type": "execute_result"
    }
   ],
   "source": [
    "# Print the deaths list\n",
    "deaths"
   ]
  },
  {
   "cell_type": "code",
   "execution_count": 186,
   "metadata": {},
   "outputs": [
    {
     "data": {
      "text/plain": [
       "'261,819 '"
      ]
     },
     "execution_count": 186,
     "metadata": {},
     "output_type": "execute_result"
    }
   ],
   "source": [
    "# Testing the first death case to get the initial counter\n",
    "unfiltered_data[17].strip('\\n')"
   ]
  },
  {
   "cell_type": "code",
   "execution_count": 187,
   "metadata": {},
   "outputs": [
    {
     "data": {
      "text/plain": [
       "'203,706 '"
      ]
     },
     "execution_count": 187,
     "metadata": {},
     "output_type": "execute_result"
    }
   ],
   "source": [
    "# Testing the second death case to get the gap between each counter\n",
    "unfiltered_data[29].strip('\\n')"
   ]
  },
  {
   "cell_type": "code",
   "execution_count": 188,
   "metadata": {},
   "outputs": [],
   "source": [
    "# Create a counter and loop through the web scraped data\n",
    "counter2 = 17\n",
    "\n",
    "# Create a new list to hold the death cases\n",
    "actives = []\n",
    "while a > 0:\n",
    "    actives.append(unfiltered_data[counter2].strip('\\n'))\n",
    "#     print(deaths2[a])\n",
    "    counter2 += 12\n",
    "    if len(actives) == len(states):\n",
    "        break"
   ]
  },
  {
   "cell_type": "code",
   "execution_count": 29,
   "metadata": {},
   "outputs": [
    {
     "data": {
      "text/plain": [
       "51"
      ]
     },
     "execution_count": 29,
     "metadata": {},
     "output_type": "execute_result"
    }
   ],
   "source": [
    "# Check the length of the states list\n",
    "len(states)"
   ]
  },
  {
   "cell_type": "code",
   "execution_count": 63,
   "metadata": {},
   "outputs": [
    {
     "data": {
      "text/plain": [
       "51"
      ]
     },
     "execution_count": 63,
     "metadata": {},
     "output_type": "execute_result"
    }
   ],
   "source": [
    "# Check the length of the cases list\n",
    "len(cases)"
   ]
  },
  {
   "cell_type": "code",
   "execution_count": 151,
   "metadata": {},
   "outputs": [
    {
     "data": {
      "text/plain": [
       "51"
      ]
     },
     "execution_count": 151,
     "metadata": {},
     "output_type": "execute_result"
    }
   ],
   "source": [
    "# Check the length of the deaths list\n",
    "len(deaths)"
   ]
  },
  {
   "cell_type": "code",
   "execution_count": 190,
   "metadata": {},
   "outputs": [
    {
     "data": {
      "text/plain": [
       "51"
      ]
     },
     "execution_count": 190,
     "metadata": {},
     "output_type": "execute_result"
    }
   ],
   "source": [
    "# Check the length of the actives list\n",
    "len(actives)"
   ]
  },
  {
   "cell_type": "code",
   "execution_count": 33,
   "metadata": {},
   "outputs": [
    {
     "data": {
      "text/plain": [
       "'3,097,084'"
      ]
     },
     "execution_count": 33,
     "metadata": {},
     "output_type": "execute_result"
    }
   ],
   "source": [
    "# Erased the first index of the cases list because it's the total cases in the US\n",
    "cases.pop(0)"
   ]
  },
  {
   "cell_type": "code",
   "execution_count": 35,
   "metadata": {},
   "outputs": [
    {
     "data": {
      "text/plain": [
       "['423,493 ',\n",
       " '287,514 ',\n",
       " '219,420 ',\n",
       " '213,794 ',\n",
       " '177,214 ',\n",
       " '149,574 ',\n",
       " '110,338 ',\n",
       " '105,094 ',\n",
       " '100,470 ',\n",
       " '95,986  ',\n",
       " '76,582 ',\n",
       " '73,900 ',\n",
       " '70,396 ',\n",
       " '68,263 ',\n",
       " '66,740 ',\n",
       " '58,967 ',\n",
       " '53,514 ',\n",
       " '48,626 ',\n",
       " '47,352 ',\n",
       " '47,033 ',\n",
       " '45,785 ',\n",
       " '39,133 ',\n",
       " '38,364 ',\n",
       " '34,664 ',\n",
       " '32,556 ',\n",
       " '32,214 ',\n",
       " '32,042 ',\n",
       " '26,033 ',\n",
       " '25,579 ',\n",
       " '24,512 ',\n",
       " '23,785 ',\n",
       " '20,201 ',\n",
       " '17,519 ',\n",
       " '17,220 ',\n",
       " '17,154 ',\n",
       " '17,070 ',\n",
       " '13,727 ',\n",
       " '12,414 ',\n",
       " '10,605 ',\n",
       " '10,569 ',\n",
       " '8,539 ',\n",
       " '7,163 ',\n",
       " '5,932 ',\n",
       " '3,898 ',\n",
       " '3,505 ',\n",
       " '3,440 ',\n",
       " '1,711 ',\n",
       " '1,327 ',\n",
       " '1,254 ',\n",
       " '1,184 ',\n",
       " '1,071 ']"
      ]
     },
     "execution_count": 35,
     "metadata": {},
     "output_type": "execute_result"
    }
   ],
   "source": [
    "# Print the cases list\n",
    "cases"
   ]
  },
  {
   "cell_type": "code",
   "execution_count": 107,
   "metadata": {},
   "outputs": [
    {
     "data": {
      "text/plain": [
       "['New York',\n",
       " 'California',\n",
       " 'Texas',\n",
       " 'Florida',\n",
       " 'New Jersey',\n",
       " 'Illinois',\n",
       " 'Massachusetts',\n",
       " 'Arizona',\n",
       " 'Georgia',\n",
       " 'Pennsylvania',\n",
       " 'North Carolina',\n",
       " 'Michigan',\n",
       " 'Maryland',\n",
       " 'Louisiana',\n",
       " 'Virginia',\n",
       " 'Ohio',\n",
       " 'Tennessee',\n",
       " 'Indiana',\n",
       " 'South Carolina',\n",
       " 'Connecticut',\n",
       " 'Alabama',\n",
       " 'Minnesota',\n",
       " 'Washington',\n",
       " 'Colorado',\n",
       " 'Wisconsin',\n",
       " 'Mississippi',\n",
       " 'Iowa',\n",
       " 'Utah',\n",
       " 'Missouri',\n",
       " 'Arkansas',\n",
       " 'Nevada',\n",
       " 'Nebraska',\n",
       " 'Kentucky',\n",
       " 'Oklahoma',\n",
       " 'Rhode Island',\n",
       " 'Kansas',\n",
       " 'New Mexico',\n",
       " 'Delaware',\n",
       " 'Oregon',\n",
       " 'District Of Columbia',\n",
       " 'Idaho',\n",
       " 'South Dakota',\n",
       " 'New Hampshire',\n",
       " 'North Dakota',\n",
       " 'West Virginia',\n",
       " 'Maine',\n",
       " 'Wyoming',\n",
       " 'Montana',\n",
       " 'Vermont',\n",
       " 'Alaska',\n",
       " 'Hawaii']"
      ]
     },
     "execution_count": 107,
     "metadata": {},
     "output_type": "execute_result"
    }
   ],
   "source": [
    "# Print the states list\n",
    "states"
   ]
  },
  {
   "cell_type": "code",
   "execution_count": 192,
   "metadata": {},
   "outputs": [
    {
     "ename": "TypeError",
     "evalue": "unsupported operand type(s) for -: 'list' and 'list'",
     "output_type": "error",
     "traceback": [
      "\u001b[1;31m---------------------------------------------------------------------------\u001b[0m",
      "\u001b[1;31mTypeError\u001b[0m                                 Traceback (most recent call last)",
      "\u001b[1;32m<ipython-input-192-d9424d751c02>\u001b[0m in \u001b[0;36m<module>\u001b[1;34m\u001b[0m\n\u001b[0;32m      1\u001b[0m \u001b[1;31m#\u001b[0m\u001b[1;33m\u001b[0m\u001b[1;33m\u001b[0m\u001b[1;33m\u001b[0m\u001b[0m\n\u001b[1;32m----> 2\u001b[1;33m \u001b[0mcases\u001b[0m \u001b[1;33m-\u001b[0m \u001b[0mdeaths\u001b[0m\u001b[1;33m\u001b[0m\u001b[1;33m\u001b[0m\u001b[0m\n\u001b[0m",
      "\u001b[1;31mTypeError\u001b[0m: unsupported operand type(s) for -: 'list' and 'list'"
     ]
    }
   ],
   "source": [
    "#\n"
   ]
  },
  {
   "cell_type": "code",
   "execution_count": null,
   "metadata": {},
   "outputs": [],
   "source": []
  }
 ],
 "metadata": {
  "kernelspec": {
   "display_name": "Python 3",
   "language": "python",
   "name": "python3"
  },
  "language_info": {
   "codemirror_mode": {
    "name": "ipython",
    "version": 3
   },
   "file_extension": ".py",
   "mimetype": "text/x-python",
   "name": "python",
   "nbconvert_exporter": "python",
   "pygments_lexer": "ipython3",
   "version": "3.7.4"
  }
 },
 "nbformat": 4,
 "nbformat_minor": 2
}
